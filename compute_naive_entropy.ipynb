{
 "cells": [
  {
   "cell_type": "code",
   "execution_count": 4,
   "metadata": {},
   "outputs": [],
   "source": [
    "import os\n",
    "import gc\n",
    "os.environ['HF_ENDPOINT']='https://hf-mirror.com'\n",
    "import torch\n",
    "import wandb\n",
    "import argparse\n",
    "import numpy as np\n",
    "from utils import *\n",
    "from tqdm import tqdm \n",
    "from datasets import load_dataset\n",
    "from scipy.special import softmax\n",
    "from torch.utils.data import DataLoader\n",
    "\n",
    "def parse_args():\n",
    "    parser = get_parser()\n",
    "    parser.add_argument(\"--f\")\n",
    "    parser.add_argument(\"--generate_method\", default=False, type = bool,help=\"True use model.generate(), otherwise use model.__call__()\")\n",
    "    parser.add_argument(\"--gammas\", default=[0.1,0.2,0.3,0.4,0.5,0.6,0.7,0.8,0.9,1.0], type=list,help=\"emergency index gamma\")\n",
    "    parser.add_argument(\"--log_image_interval\", default=10, type=int, help=\"Step interval to log Image\")\n",
    "    parser.add_argument(\"--entropy_normalize\",default=True, type=bool, help=\"Entropy compution need to divide log(k)\")\n",
    "    \n",
    "    args = parser.parse_args()\n",
    "    return args\n",
    "\n",
    "args = parse_args()\n"
   ]
  },
  {
   "cell_type": "code",
   "execution_count": 22,
   "metadata": {},
   "outputs": [
    {
     "name": "stderr",
     "output_type": "stream",
     "text": [
      "Loading checkpoint shards: 100%|██████████| 3/3 [02:09<00:00, 43.28s/it]\n"
     ]
    }
   ],
   "source": [
    "args.model_name = \"llama_2\"\n",
    "args.model_type = \"13b\"\n",
    "models_cfg = load_config(args.models_cfg)\n",
    "\n",
    "if args.lora: # Load finetune model by LORA\n",
    "    model_cfg = models_cfg[args.model_name][args.model_type]\n",
    "    model, tokenizer = load_lora_model_tokenizer(model_cfg[0],args.lora_model_dir,args.lora_model_name)\n",
    "else: # Load original model\n",
    "    model, tokenizer = load_model_tokenizer(models_cfg[args.model_name][args.model_type])"
   ]
  },
  {
   "cell_type": "code",
   "execution_count": 12,
   "metadata": {},
   "outputs": [],
   "source": [
    "prompt = \"Answer the following question as briefly as possible.\\n\"\n",
    "dataset = [{\"input_tokens\":prompt + \"9.11 and 9.9, which one is bigger?\"},\n",
    "            {\"input_tokens\":prompt + \"which one is bigger? 9.11 and 9.9\"}]\n",
    "dataloader = DataLoader(dataset, batch_size=1, shuffle=False, num_workers=2)"
   ]
  },
  {
   "cell_type": "code",
   "execution_count": 23,
   "metadata": {},
   "outputs": [
    {
     "name": "stderr",
     "output_type": "stream",
     "text": [
      "huggingface/tokenizers: The current process just got forked, after parallelism has already been used. Disabling parallelism to avoid deadlocks...\n",
      "To disable this warning, you can either:\n",
      "\t- Avoid using `tokenizers` before the fork if possible\n",
      "\t- Explicitly set the environment variable TOKENIZERS_PARALLELISM=(true | false)\n",
      "huggingface/tokenizers: The current process just got forked, after parallelism has already been used. Disabling parallelism to avoid deadlocks...\n",
      "To disable this warning, you can either:\n",
      "\t- Avoid using `tokenizers` before the fork if possible\n",
      "\t- Explicitly set the environment variable TOKENIZERS_PARALLELISM=(true | false)\n"
     ]
    },
    {
     "name": "stdout",
     "output_type": "stream",
     "text": [
      "llama_2_13b__Xsum:[0/200]\n",
      "input: Answer the following question as briefly as possible.\n",
      "9.11 and 9.9, which one is bigger?\n",
      "output: <s> Answer the following question as briefly as possible.\n",
      "9.11 and 9.9, which one is bigger?\n",
      "9.11 is bigger than 9\n",
      "naive_entropy: 0.29602377402247737\n",
      "llama_2_13b__Xsum:[1/200]\n",
      "input: Answer the following question as briefly as possible.\n",
      "which one is bigger? 9.11 and 9.9\n",
      "output: <s> Answer the following question as briefly as possible.\n",
      "which one is bigger? 9.11 and 9.99999999999\n",
      "naive_entropy: 0.28383490625174695\n"
     ]
    }
   ],
   "source": [
    "step = 0\n",
    "with torch.no_grad():\n",
    "    for batch_idx, batch_data in enumerate(dataloader):\n",
    "        gc.collect()\n",
    "        torch.cuda.empty_cache()\n",
    "        # Flitering out some larger data due to CUDA memeory\n",
    "        num_input_tokens = get_num_input_tokens(tokenizer=tokenizer,input_tokens=batch_data[\"input_tokens\"])\n",
    "        if num_input_tokens > args.max_num_input_tokens:\n",
    "            continue\n",
    "        else:\n",
    "            print(f\"{args.model_name}_{args.model_type}_{args.lora_model_name}_{args.dataset}:[{step}/{args.dataset_size}]\")\n",
    "        if step >= args.dataset_size:\n",
    "            break\n",
    "        for input_type in [\"input_tokens\"]:\n",
    "            # Model output\n",
    "            model_output = generate_model_output(model=model,tokenizer=tokenizer,\n",
    "                                        input_tokens=batch_data[input_type],\n",
    "                                        generate_method=args.generate_method) # dict = [\"input_ids\",\"attentions\",\"hidden_states\", \"logits\"]\n",
    "            \n",
    "            # Model logits\n",
    "            logits = model_output[\"logits\"] # shape = (bs, num_tokens, vocab_size)\n",
    "            \n",
    "            # Predict probabilities\n",
    "            pred_probs = softmax(logits,axis=-1) # shape = (bs, num_tokens, vocab_size)\n",
    "            del logits\n",
    "            \n",
    "            # Naive entropy\n",
    "            naive_entropys = calculate_naive_entropy(pred_probs,normalize=args.entropy_normalize) # shape = (num_tokens) value belong to [0,1]\n",
    "            del pred_probs\n",
    "            \n",
    "            # Model generate output\n",
    "            gen_config = GenerationConfig(do_sample=False, \n",
    "                                    num_beams=1,\n",
    "                                    eos_token_id=tokenizer.eos_token_id,\n",
    "                                    pad_token_id=tokenizer.eos_token_id,\n",
    "                                    max_new_tokens=10, \n",
    "                                    return_dict_in_generate=True,\n",
    "                                    output_attentions=True, \n",
    "                                    output_hidden_states=True,\n",
    "                                    output_logits=True)\n",
    "            inputs = tokenizer(batch_data[input_type], padding=False, return_tensors='pt')\n",
    "            input_ids = inputs['input_ids'].cuda()\n",
    "            attention_mask = inputs['attention_mask'].cuda()\n",
    "            output = model.generate(input_ids, attention_mask=attention_mask, generation_config=gen_config)\n",
    "            sequences = output[\"sequences\"]\n",
    "            output_text = tokenizer.decode(sequences[0])\n",
    "            print(f\"input: {batch_data[input_type][0]}\") \n",
    "            print(f\"output: {output_text}\")\n",
    "            \n",
    "            print(f\"naive_entropy: {np.mean(naive_entropys)}\")\n",
    "            \n",
    "        step += 1"
   ]
  }
 ],
 "metadata": {
  "kernelspec": {
   "display_name": "base",
   "language": "python",
   "name": "python3"
  },
  "language_info": {
   "codemirror_mode": {
    "name": "ipython",
    "version": 3
   },
   "file_extension": ".py",
   "mimetype": "text/x-python",
   "name": "python",
   "nbconvert_exporter": "python",
   "pygments_lexer": "ipython3",
   "version": "3.12.3"
  }
 },
 "nbformat": 4,
 "nbformat_minor": 2
}
